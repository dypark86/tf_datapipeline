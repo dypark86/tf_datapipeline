{
 "cells": [
  {
   "cell_type": "markdown",
   "metadata": {},
   "source": [
    "# Tensorflow Data Pipeline\n",
    "\n",
    "data input 방법\n",
    " * 학습데이터 전체 메모리에 로드\n",
    "     * 데이터가 많을 경우 메모리 용량 한계\n",
    " * generator를 사용하여 batch 사이즈 만큼만 메모리에 로드\n",
    "     * 학습 전 batch 사이즈 만큼 메모리에 로드 하기 위한 오버헤드 발생\n",
    " \n",
    "tensorflow에서 data pipeline을 만들어 GPU가 학습하는동안 cpu thread가 generator를 prefetch하여 tensorflow 모델에 input 하는 과정을 학습\n",
    "\n",
    ">참조: [Tensorflow Programmer's Guide Reading Data](https://www.tensorflow.org/programmers_guide/reading_data)\n",
    " * generator: python generator를 구현하여 data read\n",
    " * tf record: image, annotation 파일을 이용하여 tf record 파일을 생성\n",
    " * string_input_producer: file name 큐 생성\n",
    " * tf.train.shuffle.batch: batch 큐 생성\n",
    " * tf.contrib.dataset: 복잡한 input pipeline을 단순화 하기 위한 API\n",
    "\n",
    " * package 설치\n",
    "     * pip install matplotlib"
   ]
  },
  {
   "cell_type": "markdown",
   "metadata": {},
   "source": [
    "## Generator\n",
    "\n",
    " iterator 를 생성해 주는 function. next()메소드를 이용해 데이터에 순차적으로 접근 가능한 object\n",
    " 메모리를 효율적으로 사용하기 위해 사용\n",
    "  * next() 메소드를 통해 차례로 값에 접근할 때마다 메모리에 적재하는 방식이다."
   ]
  },
  {
   "cell_type": "code",
   "execution_count": 1,
   "metadata": {},
   "outputs": [
    {
     "name": "stdout",
     "output_type": "stream",
     "text": [
      "<generator object generator at 0x7f02aa157d58>\n",
      "0\n",
      "1\n",
      "2\n",
      "3\n",
      "4\n"
     ]
    }
   ],
   "source": [
    "def generator(n):\n",
    "    i = 0\n",
    "    while i < n:\n",
    "        yield i\n",
    "        i += 1\n",
    "        \n",
    "iterator = generator(10)\n",
    "print (iterator)\n",
    "for x in range(5):\n",
    "    print (next(iterator))"
   ]
  },
  {
   "cell_type": "code",
   "execution_count": 2,
   "metadata": {},
   "outputs": [
    {
     "name": "stdout",
     "output_type": "stream",
     "text": [
      "/root/data/mnist_png/training\n",
      "['5', '1', '4', '7', '0', '3', '9', '2', '8', '6']\n",
      "['/root/data/mnist_png/training/5', '/root/data/mnist_png/training/1', '/root/data/mnist_png/training/4', '/root/data/mnist_png/training/7', '/root/data/mnist_png/training/0', '/root/data/mnist_png/training/3', '/root/data/mnist_png/training/9', '/root/data/mnist_png/training/2', '/root/data/mnist_png/training/8', '/root/data/mnist_png/training/6']\n",
      "['5', '1', '4', '7', '0', '3', '9', '2', '8', '6']\n",
      "/root/data/mnist_png/testing\n",
      "['5', '1', '4', '7', '0', '3', '9', '2', '8', '6']\n",
      "['/root/data/mnist_png/testing/5', '/root/data/mnist_png/testing/1', '/root/data/mnist_png/testing/4', '/root/data/mnist_png/testing/7', '/root/data/mnist_png/testing/0', '/root/data/mnist_png/testing/3', '/root/data/mnist_png/testing/9', '/root/data/mnist_png/testing/2', '/root/data/mnist_png/testing/8', '/root/data/mnist_png/testing/6']\n",
      "['5', '1', '4', '7', '0', '3', '9', '2', '8', '6']\n"
     ]
    }
   ],
   "source": [
    "import tensorflow as tf\n",
    "import os\n",
    "import random\n",
    "import math\n",
    "import sys\n",
    "import numpy as np\n",
    "import matplotlib.pyplot as plt\n",
    "\n",
    "_NUM_SHARDS = 5\n",
    "_DATA_DIR = \"/root/data/mnist_png\"\n",
    "\n",
    "def get_filenames_and_classes(dataset_dir, train_val):\n",
    "    mnist_root = os.path.join(dataset_dir, train_val)\n",
    "    directories = []\n",
    "    class_names = []\n",
    "    print (mnist_root)\n",
    "    print (os.listdir(mnist_root))\n",
    "    for filename in os.listdir(mnist_root):\n",
    "        path = os.path.join(mnist_root, filename)\n",
    "        if os.path.isdir(path):\n",
    "            directories.append(path)\n",
    "            class_names.append(filename)\n",
    "\n",
    "    photo_filenames = []\n",
    "    print (directories)\n",
    "    print (class_names)\n",
    "    for directory in directories:\n",
    "        for filename in os.listdir(directory):\n",
    "            #print (filename)\n",
    "            path = os.path.join(directory, filename)\n",
    "            photo_filenames.append(path)\n",
    "\n",
    "    return photo_filenames, sorted(class_names)\n",
    "\n",
    "training_filenames, training_class_names = get_filenames_and_classes(_DATA_DIR, \"training\")\n",
    "validation_filenames, validation_class_names = get_filenames_and_classes(_DATA_DIR, \"testing\")\n",
    "#print (validation_filenames)"
   ]
  },
  {
   "cell_type": "code",
   "execution_count": 3,
   "metadata": {},
   "outputs": [
    {
     "name": "stdout",
     "output_type": "stream",
     "text": [
      "['0', '1', '2', '3', '4', '5', '6', '7', '8', '9']\n",
      "{'6': 6, '8': 8, '2': 2, '9': 9, '3': 3, '0': 0, '1': 1, '4': 4, '5': 5, '7': 7}\n"
     ]
    }
   ],
   "source": [
    "def generator(filenames, class_names, data_len, batch_size, epoch):\n",
    "    class_names_to_ids = dict(zip(class_names, range(len(class_names))))\n",
    "    print (class_names)\n",
    "    print (class_names_to_ids)\n",
    "    \n",
    "    for i in range(epoch):\n",
    "        i = 0\n",
    "        while i < data_len:\n",
    "\n",
    "            if (i + batch_size) > data_len:\n",
    "                batch_count = data_len - i\n",
    "            else:\n",
    "                batch_count = batch_size\n",
    "\n",
    "            batch_data = np.zeros((batch_count, 28, 28))\n",
    "            batch_label = np.zeros((batch_count, 1))\n",
    "\n",
    "            for j in range(batch_count):\n",
    "                filename = filenames[i+j]\n",
    "                batch_data[j] = plt.imread(filename)\n",
    "                #'/root/data/mnist_png/testing/6/4698.png' -> '/root/data/mnist_png/testing/6' -> '6'\n",
    "                class_name = os.path.basename(os.path.dirname(filenames[i]))\n",
    "                #string to int\n",
    "                batch_label[j] = class_names_to_ids[class_name]\n",
    "\n",
    "            yield batch_data, batch_label\n",
    "            i = i + batch_size\n",
    "\n",
    "data_len = len(validation_filenames)\n",
    "batch_size = 14\n",
    "epoch = 2\n",
    "gen = generator(validation_filenames, validation_class_names, data_len, batch_size, epoch)\n",
    "\n",
    "gen_count = np.ceil(data_len/batch_size)\n",
    "\n",
    "for i in range(int(gen_count)*epoch):\n",
    "    batch_data, batch_label = next(gen)\n",
    "    #print (np.shape(batch_data), np.shape(batch_label))"
   ]
  },
  {
   "cell_type": "markdown",
   "metadata": {},
   "source": [
    "## tf record\n",
    "\n",
    " 여러곳에 흩어져 있는 이미지와 annotation을 binary 파일로 저장. <br/>\n",
    " 분산된 이미지 대신 통합된 binary 파일 read \n",
    "  * image와 label을 파일 하나로 저장 \n",
    "  * hdd를 사용할 경우, disk 헤더 이동시간을 줄여 파일 읽기 시간을 최적화"
   ]
  },
  {
   "cell_type": "code",
   "execution_count": 4,
   "metadata": {},
   "outputs": [
    {
     "name": "stdout",
     "output_type": "stream",
     "text": [
      "{'6': 6, '8': 8, '2': 2, '9': 9, '3': 3, '0': 0, '1': 1, '4': 4, '5': 5, '7': 7}\n",
      "file len:  60000 num per shard:  12000\n",
      "WARNING:tensorflow:('*** [AIRI-Tensorflow] *** enforced default config:', gpu_options {\n",
      "  allow_growth: true\n",
      "}\n",
      "allow_soft_placement: true\n",
      ")\n",
      ">> Converting image 60000/60000 shard 4\n",
      "file len:  10000 num per shard:  2000\n",
      "WARNING:tensorflow:('*** [AIRI-Tensorflow] *** enforced default config:', gpu_options {\n",
      "  allow_growth: true\n",
      "}\n",
      "allow_soft_placement: true\n",
      ")\n",
      ">> Converting image 10000/10000 shard 4\n"
     ]
    }
   ],
   "source": [
    "#Helper class that provides TensorFlow image coding utilities.\n",
    "class ImageReader(object):\n",
    "\n",
    "    def __init__(self):\n",
    "        # Initializes function that decodes 1 channel png data.\n",
    "        self._decode_png_data = tf.placeholder(dtype=tf.string)\n",
    "        self._decode_png = tf.image.decode_png(self._decode_png_data, channels=1)\n",
    "\n",
    "    def read_image_dims(self, sess, image_data):\n",
    "        image = self.decode_png(sess, image_data)\n",
    "        return image.shape[0], image.shape[1]\n",
    "    #decode string image data to int image data\n",
    "    def decode_png(self, sess, image_data):\n",
    "        image = sess.run(self._decode_png,\n",
    "                         feed_dict={self._decode_png_data: image_data})\n",
    "        return image\n",
    "\n",
    "# make tensorflow record file name\n",
    "def get_dataset_filename(dataset_dir, split_name, shard_id):\n",
    "    output_filename = 'mnist_%s_%05d-of-%05d.tfrecord' % (\n",
    "        split_name, shard_id, _NUM_SHARDS)\n",
    "    return os.path.join(dataset_dir, output_filename)\n",
    "\n",
    "# Creates a TensorFlow Record Feature with value as a 64 bit integer.\n",
    "def int64_feature(values):\n",
    "    # if value is not tuple or list, make value to list\n",
    "    if not isinstance(values, (tuple, list)):\n",
    "        values = [values]\n",
    "    return tf.train.Feature(int64_list=tf.train.Int64List(value=values))\n",
    "\n",
    "# Creates a TensorFlow Record Feature with value as a byte array\n",
    "def bytes_feature(values):\n",
    "    return tf.train.Feature(bytes_list=tf.train.BytesList(value=[values]))\n",
    "\n",
    "#define tesnorflow record format\n",
    "def image_to_tfexample(image_data, image_format, height, width, class_id):\n",
    "    return tf.train.Example(features=tf.train.Features(feature={\n",
    "      'image/encoded': bytes_feature(image_data),\n",
    "      'image/format': bytes_feature(image_format),\n",
    "      'image/class/label': int64_feature(class_id),\n",
    "      'image/height': int64_feature(height),\n",
    "      'image/width': int64_feature(width),\n",
    "    }))\n",
    "\n",
    "#Converts the given filenames to a TFRecord dataset.\n",
    "#\n",
    "#      Args:\n",
    "#        split_name: The name of the dataset, either 'train' or 'validation'.\n",
    "#        filenames: A list of absolute paths to png or jpg images.\n",
    "#        class_names_to_ids: A dictionary from class names (strings) to ids\n",
    "#          (integers).\n",
    "#        dataset_dir: The directory where the converted datasets are stored.\n",
    "\n",
    "def convert_dataset(split_name, filenames, class_names_to_ids, dataset_dir):\n",
    "    assert split_name in ['train', 'validation']\n",
    "    \n",
    "    num_per_shard = int(math.ceil(len(filenames) / float(_NUM_SHARDS)))\n",
    "\n",
    "    print (\"file len: \",len(filenames), \"num per shard: \", num_per_shard)\n",
    "\n",
    "    with tf.Graph().as_default():\n",
    "        image_reader = ImageReader()\n",
    "\n",
    "        with tf.Session('') as sess:\n",
    "\n",
    "            for shard_id in range(_NUM_SHARDS):\n",
    "                output_filename = get_dataset_filename(\n",
    "                    dataset_dir, split_name, shard_id)\n",
    "\n",
    "                #print (output_filename)\n",
    "                \n",
    "                #write tensorflow record file\n",
    "                #create tfrecord_write\n",
    "                with tf.python_io.TFRecordWriter(output_filename) as tfrecord_writer:\n",
    "                    start_ndx = shard_id * num_per_shard\n",
    "                    end_ndx = min((shard_id + 1) * num_per_shard, len(filenames))\n",
    "                    for i in range(start_ndx, end_ndx):\n",
    "                        sys.stdout.write('\\r>> Converting image %d/%d shard %d' % (\n",
    "                            i + 1, len(filenames), shard_id))\n",
    "                        sys.stdout.flush()\n",
    "\n",
    "                        # Read the filename:\n",
    "                        image_data = tf.gfile.FastGFile(filenames[i], 'rb').read()\n",
    "                        height, width = image_reader.read_image_dims(sess, image_data)\n",
    "\n",
    "                        class_name = os.path.basename(os.path.dirname(filenames[i]))\n",
    "                        class_id = class_names_to_ids[class_name]\n",
    "                        \n",
    "                        #make tensorflow record object and write\n",
    "                        example = image_to_tfexample(\n",
    "                            image_data, b'png', height, width, class_id)\n",
    "                        tfrecord_writer.write(example.SerializeToString())\n",
    "\n",
    "    sys.stdout.write('\\n')\n",
    "    sys.stdout.flush()\n",
    "\n",
    "random.shuffle(training_filenames)\n",
    "random.shuffle(validation_filenames)\n",
    "\n",
    "class_names_to_ids = dict(zip(training_class_names, range(len(training_class_names))))\n",
    "print (class_names_to_ids)\n",
    "\n",
    "convert_dataset('train', training_filenames, class_names_to_ids,\n",
    "                     _DATA_DIR)\n",
    "convert_dataset('validation', validation_filenames, class_names_to_ids,\n",
    "                     _DATA_DIR)"
   ]
  },
  {
   "cell_type": "code",
   "execution_count": 5,
   "metadata": {},
   "outputs": [
    {
     "name": "stdout",
     "output_type": "stream",
     "text": [
      "12000 12000 12000 12000 12000\n",
      "b'png' 8 28 28\n",
      "WARNING:tensorflow:('*** [AIRI-Tensorflow] *** enforced default config:', gpu_options {\n",
      "  allow_growth: true\n",
      "}\n",
      "allow_soft_placement: true\n",
      ")\n",
      "(28, 28)\n"
     ]
    },
    {
     "data": {
      "image/png": "[encoded data removed]",
      "text/plain": [
       "<matplotlib.figure.Figure at 0x7f026f273358>"
      ]
     },
     "metadata": {},
     "output_type": "display_data"
    }
   ],
   "source": [
    "tf_filename = \"/root/data/mnist_png/mnist_train_00000-of-00005.tfrecord\"\n",
    "image = []\n",
    "format = []\n",
    "label = []\n",
    "height = []\n",
    "width = []\n",
    "\n",
    "#decoding from tf_filename\n",
    "for serialized_example in tf.python_io.tf_record_iterator(tf_filename):\n",
    "    #create tf record object and parsing\n",
    "    example = tf.train.Example()\n",
    "    example.ParseFromString(serialized_example)\n",
    "\n",
    "    # traverse the Example format to get data\n",
    "    image.append(example.features.feature['image/encoded'].bytes_list.value)\n",
    "    format.append(example.features.feature['image/format'].bytes_list.value)\n",
    "    label.append(example.features.feature['image/class/label'].int64_list.value)\n",
    "    height.append(example.features.feature['image/height'].int64_list.value)\n",
    "    width.append(example.features.feature['image/width'].int64_list.value)\n",
    "\n",
    "print (len(image), len(format), len(label), len(height), len(width))\n",
    "print (format[1][0], label[1][0], height[1][0], width[1][0])\n",
    "\n",
    "with tf.Session('') as sess:\n",
    "    #bytes_list image data to int image data\n",
    "    image = tf.image.decode_png(image[1][0], channels=1)\n",
    "    image_shape = tf.stack([height[1][0], width[1][0]])\n",
    "    image = tf.reshape(image, image_shape)\n",
    "    image = sess.run(image)\n",
    "\n",
    "\n",
    "print (image.shape)\n",
    "plt.imshow(image,  cmap='gray')\n",
    "plt.show()"
   ]
  },
  {
   "cell_type": "markdown",
   "metadata": {},
   "source": [
    "## string_input_producer\n",
    " \n",
    " filename을 produce 하기 위한 큐 <br/>\n",
    " FIFO 큐를 만들어 reader가 읽기 전까지 fiilename을 홀딩"
   ]
  },
  {
   "cell_type": "code",
   "execution_count": 13,
   "metadata": {},
   "outputs": [
    {
     "name": "stdout",
     "output_type": "stream",
     "text": [
      "['/root/data/mnist_png/mnist_validation_00000-of-00005.tfrecord', '/root/data/mnist_png/mnist_validation_00001-of-00005.tfrecord', '/root/data/mnist_png/mnist_validation_00002-of-00005.tfrecord', '/root/data/mnist_png/mnist_validation_00003-of-00005.tfrecord', '/root/data/mnist_png/mnist_validation_00004-of-00005.tfrecord']\n",
      "WARNING:tensorflow:('*** [AIRI-Tensorflow] *** enforced default config:', gpu_options {\n",
      "  allow_growth: true\n",
      "}\n",
      "allow_soft_placement: true\n",
      ")\n",
      "[b'/root/data/mnist_png/mnist_validation_00002-of-00005.tfrecord:0']\n",
      "[b'/root/data/mnist_png/mnist_validation_00002-of-00005.tfrecord:285']\n",
      "[b'/root/data/mnist_png/mnist_validation_00002-of-00005.tfrecord:688']\n",
      "[b'/root/data/mnist_png/mnist_validation_00002-of-00005.tfrecord:977']\n",
      "[b'/root/data/mnist_png/mnist_validation_00002-of-00005.tfrecord:1338']\n",
      "thread Done:\n"
     ]
    }
   ],
   "source": [
    "filename_list = []\n",
    "num_epochs = 1\n",
    "\n",
    "for i in range(_NUM_SHARDS):\n",
    "    filename_list.append(os.path.join(_DATA_DIR,  \n",
    "                                      'mnist_validation_%05d-of-%05d.tfrecord' % (i, _NUM_SHARDS)))\n",
    "\n",
    "print (filename_list)\n",
    "filename_queue = tf.train.string_input_producer(filename_list, num_epochs=num_epochs)\n",
    "reader = tf.TFRecordReader()\n",
    "key, value = reader.read(filename_queue)\n",
    "\n",
    "init_op = tf.group(tf.global_variables_initializer(),\n",
    "                   tf.local_variables_initializer())\n",
    "\n",
    "with tf.Session() as sess:\n",
    "    sess.run(init_op)\n",
    "    \n",
    "    coord = tf.train.Coordinator()\n",
    "    threads = tf.train.start_queue_runners(sess=sess, coord=coord)\n",
    "    step = 0 \n",
    "    try:\n",
    "        #while True:\n",
    "        for i in range(5):\n",
    "            #read tensorflow object\n",
    "            print (sess.run([key]))\n",
    "            step = step + 1\n",
    "    \n",
    "    except tf.errors.OutOfRangeError:\n",
    "        print(\"Done training \")\n",
    "        print (step)\n",
    "    finally:\n",
    "        coord.request_stop()\n",
    "        coord.join(threads)\n",
    "        print (\"thread Done:\")"
   ]
  },
  {
   "cell_type": "markdown",
   "metadata": {},
   "source": [
    "## tf.train.shuffle.batch\n",
    "\n",
    " string input producer에서 파일을 읽은 후, batch 크기 단위로 저장 <br/>\n",
    " num_threads 변수 설정으로 prefetch reading threads 수 설정\n",
    " \n",
    " epoch limit된 string_input_producer와 사용시 epoch 전체를 수행하지 못하고 종료될 가능성 존재\n",
    "  * epoch가 끝나고 filename queue 가 close되었지만 filename은 여전히 큐에 남아 있는 경우, <br/>\n",
    "    reader가 파일 읽기를 시작할때 outOfrange 에러가 발생하며 남아있는 파일을 읽지 못하고 훈련이 종료됨 "
   ]
  },
  {
   "cell_type": "code",
   "execution_count": 10,
   "metadata": {},
   "outputs": [
    {
     "name": "stdout",
     "output_type": "stream",
     "text": [
      "['/root/data/mnist_png/mnist_validation_00000-of-00005.tfrecord', '/root/data/mnist_png/mnist_validation_00001-of-00005.tfrecord', '/root/data/mnist_png/mnist_validation_00002-of-00005.tfrecord', '/root/data/mnist_png/mnist_validation_00003-of-00005.tfrecord', '/root/data/mnist_png/mnist_validation_00004-of-00005.tfrecord']\n",
      "WARNING:tensorflow:('*** [AIRI-Tensorflow] *** enforced default config:', gpu_options {\n",
      "  allow_growth: true\n",
      "}\n",
      "allow_soft_placement: true\n",
      ")\n",
      "label (16,)\n",
      "image (16, 28, 28, 1)\n"
     ]
    },
    {
     "data": {
      "image/png": "[encoded data removed]",
      "text/plain": [
       "<matplotlib.figure.Figure at 0x7f026ecb8940>"
      ]
     },
     "metadata": {},
     "output_type": "display_data"
    },
    {
     "name": "stdout",
     "output_type": "stream",
     "text": [
      "label (16,)\n",
      "image (16, 28, 28, 1)\n"
     ]
    },
    {
     "data": {
      "image/png": "[encoded data removed]",
      "text/plain": [
       "<matplotlib.figure.Figure at 0x7f021d87c550>"
      ]
     },
     "metadata": {},
     "output_type": "display_data"
    },
    {
     "name": "stdout",
     "output_type": "stream",
     "text": [
      "label (16,)\n",
      "image (16, 28, 28, 1)\n"
     ]
    },
    {
     "data": {
      "image/png": "[encoded data removed]",
      "text/plain": [
       "<matplotlib.figure.Figure at 0x7f021eaae630>"
      ]
     },
     "metadata": {},
     "output_type": "display_data"
    },
    {
     "name": "stdout",
     "output_type": "stream",
     "text": [
      "label (16,)\n",
      "image (16, 28, 28, 1)\n"
     ]
    },
    {
     "data": {
      "image/png": "[encoded data removed]",
      "text/plain": [
       "<matplotlib.figure.Figure at 0x7f021d95afd0>"
      ]
     },
     "metadata": {},
     "output_type": "display_data"
    },
    {
     "name": "stdout",
     "output_type": "stream",
     "text": [
      "label (16,)\n",
      "image (16, 28, 28, 1)\n"
     ]
    },
    {
     "data": {
      "image/png": "[encoded data removed]",
      "text/plain": [
       "<matplotlib.figure.Figure at 0x7f021d9be908>"
      ]
     },
     "metadata": {},
     "output_type": "display_data"
    },
    {
     "name": "stdout",
     "output_type": "stream",
     "text": [
      "thread Done:\n"
     ]
    }
   ],
   "source": [
    "def read_and_decode(filename_queue):\n",
    "\n",
    "    reader = tf.TFRecordReader()\n",
    "    _, serialized_example = reader.read(filename_queue)\n",
    "\n",
    "    features = tf.parse_single_example(\n",
    "        serialized_example,\n",
    "        # Defaults are not specified since both keys are required.\n",
    "        features={\n",
    "            'image/encoded': tf.FixedLenFeature([], tf.string),\n",
    "            'image/class/label': tf.FixedLenFeature([], tf.int64),\n",
    "            'image/height': tf.FixedLenFeature([], tf.int64),\n",
    "            'image/width': tf.FixedLenFeature([], tf.int64),\n",
    "        })\n",
    "\n",
    "    label = tf.cast(features['image/class/label'], tf.int32)\n",
    "    height = tf.cast(features['image/height'], tf.int32)\n",
    "    width = tf.cast(features['image/width'], tf.int32)\n",
    "\n",
    "    image = tf.image.decode_jpeg(features['image/encoded'])\n",
    "\n",
    "    image_shape = tf.stack([height, width, 1])\n",
    "    image = tf.reshape(image, image_shape)\n",
    "\n",
    "    return image, label\n",
    "\n",
    "def preprocess_for_eval(image, height, width,\n",
    "                        scope=None):\n",
    "    \n",
    "    with tf.name_scope(scope, 'eval_image', [image, height, width]):\n",
    "        if image.dtype != tf.float32:\n",
    "            image = tf.image.convert_image_dtype(image, dtype=tf.float32)\n",
    "\n",
    "        if height and width:\n",
    "            # Resize the image to the specified height and width.\n",
    "            image = tf.expand_dims(image, 0)\n",
    "            image = tf.image.resize_bilinear(image, [height, width],\n",
    "                                           align_corners=False)\n",
    "            image = tf.squeeze(image, [0])\n",
    "        return image\n",
    "\n",
    "filename_list = []\n",
    "num_epochs = 1\n",
    "\n",
    "for i in range(_NUM_SHARDS):\n",
    "    filename_list.append(os.path.join(_DATA_DIR,  \n",
    "                                      'mnist_validation_%05d-of-%05d.tfrecord' % (i, _NUM_SHARDS)))\n",
    "\n",
    "print (filename_list)\n",
    "filename_queue = tf.train.string_input_producer(filename_list, num_epochs=num_epochs)    \n",
    "    \n",
    "image, label = read_and_decode(filename_queue)\n",
    "\n",
    "image = preprocess_for_eval(image, 28, 28)\n",
    "\n",
    "images, labels = tf.train.shuffle_batch(\n",
    "            [image, label], batch_size=16, num_threads=1,\n",
    "            capacity=800, allow_smaller_final_batch = True, min_after_dequeue=320 )\n",
    "\n",
    "#min_after_dequeue: Minimum number elements in the queue after a dequeue, \n",
    "#                   used to ensure a level of mixing of elements.\n",
    "\n",
    "init_op = tf.group(tf.global_variables_initializer(),\n",
    "                   tf.local_variables_initializer())\n",
    "\n",
    "with tf.Session() as sess:\n",
    "\n",
    "    sess.run(init_op)\n",
    "\n",
    "    coord = tf.train.Coordinator() #coordinator for theads for termination\n",
    "    threads = tf.train.start_queue_runners(sess=sess, coord=coord) #start threads that run the input pipeline\n",
    "    \n",
    "    try:\n",
    "        for i in range(5):\n",
    "            image, label = sess.run([images, labels])\n",
    "            print (\"label\", np.shape(label))\n",
    "            print (\"image\", np.shape(image))\n",
    "            step = step + 1\n",
    "            sample_image = np.reshape(image[0], (28, 28))\n",
    "            plt.imshow(sample_image, cmap='gray')\n",
    "            plt.show()\n",
    "    except tf.errors.OutOfRangeError: #epoch limit has been reached\n",
    "        print(\"Done training \", step, step*16)\n",
    "    finally:\n",
    "        coord.request_stop()\n",
    "        coord.join(threads)\n",
    "        print (\"thread Done:\")"
   ]
  },
  {
   "cell_type": "markdown",
   "metadata": {},
   "source": [
    "## tf.contrib.dataset\n",
    "\n",
    "input pipeline을 생성하기 위한 간편한 API\n",
    " * repeat를 이용하여 epoch 설정시, epoch 전체가 reading 된후 OutOfRangeError 발생\n",
    " * prefetch 지원 안됨\n"
   ]
  },
  {
   "cell_type": "code",
   "execution_count": 11,
   "metadata": {},
   "outputs": [
    {
     "name": "stdout",
     "output_type": "stream",
     "text": [
      "WARNING:tensorflow:('*** [AIRI-Tensorflow] *** enforced default config:', gpu_options {\n",
      "  allow_growth: true\n",
      "}\n",
      "allow_soft_placement: true\n",
      ")\n",
      "label (16,)\n",
      "image (16, 28, 28, 1)\n"
     ]
    },
    {
     "data": {
      "image/png": "[encoded data removed]",
      "text/plain": [
       "<matplotlib.figure.Figure at 0x7f021da19828>"
      ]
     },
     "metadata": {},
     "output_type": "display_data"
    },
    {
     "name": "stdout",
     "output_type": "stream",
     "text": [
      "label (16,)\n",
      "image (16, 28, 28, 1)\n"
     ]
    },
    {
     "data": {
      "image/png": "[encoded data removed]",
      "text/plain": [
       "<matplotlib.figure.Figure at 0x7f021da4ad68>"
      ]
     },
     "metadata": {},
     "output_type": "display_data"
    },
    {
     "name": "stdout",
     "output_type": "stream",
     "text": [
      "label (16,)\n",
      "image (16, 28, 28, 1)\n"
     ]
    },
    {
     "data": {
      "image/png": "[encoded data removed]",
      "text/plain": [
       "<matplotlib.figure.Figure at 0x7f026ed16f28>"
      ]
     },
     "metadata": {},
     "output_type": "display_data"
    },
    {
     "name": "stdout",
     "output_type": "stream",
     "text": [
      "label (16,)\n",
      "image (16, 28, 28, 1)\n"
     ]
    },
    {
     "data": {
      "image/png": "[encoded data removed]",
      "text/plain": [
       "<matplotlib.figure.Figure at 0x7f0264183f60>"
      ]
     },
     "metadata": {},
     "output_type": "display_data"
    },
    {
     "name": "stdout",
     "output_type": "stream",
     "text": [
      "label (16,)\n",
      "image (16, 28, 28, 1)\n"
     ]
    },
    {
     "data": {
      "image/png": "[encoded data removed]",
      "text/plain": [
       "<matplotlib.figure.Figure at 0x7f02641b2748>"
      ]
     },
     "metadata": {},
     "output_type": "display_data"
    },
    {
     "name": "stdout",
     "output_type": "stream",
     "text": [
      "thread Done:\n"
     ]
    }
   ],
   "source": [
    "filename_list = []\n",
    "num_epochs = 1\n",
    "batch_size = 16\n",
    "\n",
    "def read_and_decode(example_proto):\n",
    "\n",
    "    #reader = tf.TFRecordReader()\n",
    "    #_, serialized_example = reader.read(filename_queue)\n",
    "\n",
    "    features = tf.parse_single_example(\n",
    "        example_proto,\n",
    "        # Defaults are not specified since both keys are required.\n",
    "        features={\n",
    "            'image/encoded': tf.FixedLenFeature([], tf.string),\n",
    "            'image/class/label': tf.FixedLenFeature([], tf.int64),\n",
    "            'image/height': tf.FixedLenFeature([], tf.int64),\n",
    "            'image/width': tf.FixedLenFeature([], tf.int64),\n",
    "        })\n",
    "\n",
    "    label = tf.cast(features['image/class/label'], tf.int32)\n",
    "    height = tf.cast(features['image/height'], tf.int32)\n",
    "    width = tf.cast(features['image/width'], tf.int32)\n",
    "\n",
    "    image = tf.image.decode_jpeg(features['image/encoded'])\n",
    "\n",
    "    image_shape = tf.stack([height, width, 1])\n",
    "    image = tf.reshape(image, image_shape)\n",
    "\n",
    "    return image, label\n",
    "\n",
    "def preprocess_for_eval(image, label, height=28, width=28,\n",
    "                        scope=None):\n",
    "    \n",
    "    with tf.name_scope(scope, 'eval_image', [image, height, width]):\n",
    "        if image.dtype != tf.float32:\n",
    "            image = tf.image.convert_image_dtype(image, dtype=tf.float32)\n",
    "\n",
    "        if height and width:\n",
    "            # Resize the image to the specified height and width.\n",
    "            image = tf.expand_dims(image, 0)\n",
    "            image = tf.image.resize_bilinear(image, [height, width],\n",
    "                                           align_corners=False)\n",
    "            image = tf.squeeze(image, [0])\n",
    "            \n",
    "        return image, label\n",
    "\n",
    "for i in range(_NUM_SHARDS):\n",
    "    filename_list.append(os.path.join(_DATA_DIR,  \n",
    "                                      'mnist_validation_%05d-of-%05d.tfrecord' % (i, _NUM_SHARDS)))\n",
    "\n",
    "dataset = tf.contrib.data.TFRecordDataset(filename_list)\n",
    "dataset = dataset.map(read_and_decode)\n",
    "dataset = dataset.map(preprocess_for_eval)\n",
    "#dataset = dataset.shuffle(buffer_size=1000)\n",
    "dataset = dataset.repeat(num_epochs)\n",
    "dataset = dataset.batch(batch_size)\n",
    "\n",
    "iterator = dataset.make_one_shot_iterator()\n",
    "next_element = iterator.get_next()\n",
    "\n",
    "init_op = tf.group(tf.global_variables_initializer(),\n",
    "                   tf.local_variables_initializer())\n",
    "\n",
    "with tf.Session() as sess:\n",
    "\n",
    "    sess.run(init_op)\n",
    "    \n",
    "    try:\n",
    "        for i in range(5):\n",
    "            image, label = sess.run(next_element)\n",
    "            print (\"label\", np.shape(label))\n",
    "            print (\"image\", np.shape(image))\n",
    "            step = step + 1\n",
    "            sample_image = np.reshape(image[0], (28, 28))\n",
    "            plt.imshow(sample_image, cmap='gray')\n",
    "            plt.show()\n",
    "    except tf.errors.OutOfRangeError:\n",
    "        print(\"Done training \", step, step*16)\n",
    "    finally:\n",
    "        coord.request_stop()\n",
    "        coord.join(threads)\n",
    "        print (\"thread Done:\")"
   ]
  },
  {
   "cell_type": "code",
   "execution_count": null,
   "metadata": {
    "collapsed": true
   },
   "outputs": [],
   "source": []
  }
 ],
 "metadata": {
  "kernelspec": {
   "display_name": "Python 3",
   "language": "python",
   "name": "python3"
  },
  "language_info": {
   "codemirror_mode": {
    "name": "ipython",
    "version": 3
   },
   "file_extension": ".py",
   "mimetype": "text/x-python",
   "name": "python",
   "nbconvert_exporter": "python",
   "pygments_lexer": "ipython3",
   "version": "3.5.3"
  }
 },
 "nbformat": 4,
 "nbformat_minor": 1
}
